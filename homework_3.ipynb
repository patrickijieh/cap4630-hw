{
  "cells": [
    {
      "cell_type": "code",
      "execution_count": null,
      "metadata": {
        "id": "Z-mLGsHgV3kV"
      },
      "outputs": [],
      "source": [
        "# Name: Patrick Ijieh"
      ]
    },
    {
      "cell_type": "markdown",
      "metadata": {
        "id": "lzo37yE6ejuA"
      },
      "source": [
        "# Convolution Neural Network Homework\n",
        "\n",
        "This is the 3rd homework assignment for CAP 4630 and we will go through some primary operations for image processsing and implement one of the earilest representative convolution neural network - LeNet-5 . \\\n",
        "You will use **\"Tasks\"** and **\"Hints\"** to finish the work. **(Total 100 Points)** \\\n",
        "For section 1, when you implement covolution and maxpooling, you are **not** allowed to use built-in functions in Machine Learning libaries such as Scikit-learn Keras, Tensorflow, Pytorch; but you are encouraged to employ Keras for second section.\n",
        "\n",
        "**Task Overview:**\n",
        "- Basic operations for Digital Image Processing (DIP)\n",
        "- LeNet-5 (Google Colab is recommended for implementation)"
      ]
    },
    {
      "cell_type": "markdown",
      "metadata": {
        "id": "gLKjpQvaejuF"
      },
      "source": [
        "## 1 - Basic Image Processing ##\n",
        "### 1.1 Data Preparation\n",
        "\n",
        "Import packages and prepare image data as an array for image processing. **(5 Points)**\n",
        "\n",
        "**Tasks:**\n",
        "1. Import numpy and rename it to np.\n",
        "2. Import imageio and call imread to convert image to an array.\n",
        "3. **DISPLAY** the image in the output box before image-array conversion.\n",
        "4. **PRINT OUT** the size of the array\n",
        "5. **PRINT OUT** the numeric matrix form of image, i.e. the obtained array after image-array conversion.\n",
        "\n",
        "References:\n",
        "- [numpy](www.numpy.org) is the fundamental package for scientific computing with Python.\n",
        "- [imageio](https://imageio.github.io/) is a python library for basic image reading and writing.\n",
        "\n",
        "**Hints:**\n",
        "1. Image data is under current directory, i.e., \"./image.jpg\".\n",
        "2. You may consider importing \"display\" and \"Image\" from IPython.display for image display."
      ]
    },
    {
      "cell_type": "code",
      "execution_count": null,
      "metadata": {
        "colab": {
          "base_uri": "https://localhost:8080/",
          "height": 1000
        },
        "id": "qvITLRocejuG",
        "outputId": "ee76c841-40a2-4145-d18b-deaa39f51d4d"
      },
      "outputs": [
        {
          "data": {
            "image/jpeg": "[encoded data removed]",
            "text/plain": [
              "<IPython.core.display.Image object>"
            ]
          },
          "metadata": {},
          "output_type": "display_data"
        },
        {
          "name": "stdout",
          "output_type": "stream",
          "text": [
            "(30, 30)\n",
            "[[ 98  89  78 112  90  93 158 112 122 117 107 121  90  75  67  93  73  67\n",
            "   96 152 167 151 166 154 134 105  53  51  55  44]\n",
            " [ 34  31  51  38  16  50 195 161 138 173 200 209 194 206 222 237 223 195\n",
            "  177 185 167 160 166 169 136  98  49  54  55  35]\n",
            " [ 78  84  94  71  81  69 190 204 233 240 249 234 232 241 250 235 235 236\n",
            "  224 194 169 181 170 162 121  95  55  49  52  47]\n",
            " [ 79  58  90 127 103 137 253 244 254 222 223 219 235 228 232 206 201 215\n",
            "  201 106 105 137 169 173 124  81  45  49  59  53]\n",
            " [ 31  75  44  81  89 191 242 255 228 208 231 233 236 222 227 199 177 192\n",
            "  208 104 137 109 170 194 159  88  44  54  63  46]\n",
            " [ 85  66  51 145 129 225 239 206 242 233 247 231 210 218 232 202 190 173\n",
            "  181  95 146  39 132 199 178 145 103  53  44  65]\n",
            " [ 81  60  76 178 216 214 209 230 240 229 230 211 157 176 214 218 185 186\n",
            "  198 154 203  33 100 157 157 179 162  72  39  78]\n",
            " [104  89 152 176 168 117 182 226 242 235 238 207  82  50  94 145 136 157\n",
            "  148 119 175  30 111 165 136 155 168 110  60  56]\n",
            " [ 95  39 181 160  91  13 180 237 240 242 221 102  24   7  19  12  38  95\n",
            "  101 142 155  30  89  91 107 145 161 113  60  53]\n",
            " [ 18  54 186 144 147  99 248 238 235 227 210 115  62  57  74  72  85  82\n",
            "   91 182  83  56  68  59 129 113 133 129 116  67]\n",
            " [ 84  79 201 132 185 229 217 206 210 188 188 155 160 169 164 141 111  70\n",
            "  126 154  49  40  69  73 104  85 120 132 158 125]\n",
            " [201 161 135 153 174 219 204 197 209 178 177 146 138 124 114 101  90  85\n",
            "  144 105  81  53  83 104  74  80 122 141 152 133]\n",
            " [162 150 147 212 176 180 190 187 161 107 114 140 191 178 114  49  74 117\n",
            "  112 118  99 114  93  98  96  90 104 139 102  67]\n",
            " [184 138 167 132  90 118 183 214 193 150 148 132 137 130 135 141  96 127\n",
            "  108 140  75 111 113  96 115 101  75  89  42  43]\n",
            " [172 127 105  83  61  34 134 149 188 134 119  97 106 106 115 120 109 107\n",
            "  123 139  70  77 110 103 102  91  67  68  42  61]\n",
            " [139  39  59  55  36  15  27 128 189 123  98  79 100 105 105  97  95  86\n",
            "  105 148  94  95  78  92  93  67  78 110  94  51]\n",
            " [162  27  19  24   2  34  19 104 153  91  88  71 100 151 122 118  98  96\n",
            "   92 143 136  86  92  79  83  64  35  31  61  87]\n",
            " [186 114  41  35  15  20  37  75 101  92  91  86 122 172 147  97  85  96\n",
            "   86 104  88  61  80  64  68  65  37  12  21  38]\n",
            " [183 164  24  17  41  42  75  49  67  80  74  86  98 104 116  99  81 101\n",
            "   90  94  97 116 149 125  69  83  64  30  28  42]\n",
            " [172 207  94  39  34  18  50  52  82  95  92  99  97  86 104 120  82  88\n",
            "   69  66  82 112 126  84  52  66  53  25  20  26]\n",
            " [159 164 106  37  51  56  38  56  62  87 101  90 108 125  99  84  94  90\n",
            "   78  79  86  97  89  48  79  77  59  41  34  27]\n",
            " [179 181 191 103  67  52  28  77  92 109 121 113 129 129  93  93  65  66\n",
            "   77  86  83  79  71  52  55  46  30  24  26  19]\n",
            " [198 178 191 158 154 149 142 139 144 144 109 102 103  73  72  98  89  84\n",
            "   94  92  76  65  51  40  19  21  12   9  19  25]\n",
            " [173 168 176 182 184 172 208 171 198 207 118  91 101  88 107  93 109  92\n",
            "   87  72  55  47  26   6   9  21  14   1   9  19]\n",
            " [180 180 176 177 187 189 165 134 130 188 137 113  70 107  79  61  81  61\n",
            "   47  49  48  30  10   0   4   5   5   5   4   7]\n",
            " [176 177 176 178 186 190 183 172 160 151 124 134 109  74  58  64  56  48\n",
            "   42  37  23   8   8  17   9   9  11  14  18  23]\n",
            " [175 174 176 180 181 185 195 207 179 208 217 168 122  92  94  48  52  34\n",
            "   18  14  12  10  14  21  33  28  23  23  26  28]\n",
            " [179 174 177 182 178 175 189 210 216 220 204 246 134 106  65  57  55  34\n",
            "   14   9  15  21  27  32  54  43  31  29  34  36]\n",
            " [183 176 177 185 182 172 179 196 255 153 188 221 225  84  82  51  42  39\n",
            "   33  25  19  23  41  59  49  37  27  31  47  59]\n",
            " [184 177 179 188 186 177 177 186 242 187 172 247 199 148  91  54  40  35\n",
            "   30  29  34  44  55  63  34  24  18  28  51  71]]\n"
          ]
        }
      ],
      "source": [
        "# Import useful libraries\n",
        "import numpy as np\n",
        "import matplotlib.pyplot as plt\n",
        "import imageio\n",
        "from IPython.display import display, Image\n",
        "\n",
        "# Display original image\n",
        "\n",
        "display(Image('./image.jpg'))\n",
        "\n",
        "# # Convert image to array, print out the shape of array, and print out the entire array\n",
        "# img_matrix = ...\n",
        "# print(img_matrix.shape)\n",
        "# print(img_matrix)\n",
        "\n",
        "img_matrix = imageio.v3.imread(\"./image.jpg\")\n",
        "print(img_matrix.shape)\n",
        "print(img_matrix)"
      ]
    },
    {
      "cell_type": "markdown",
      "metadata": {
        "id": "EY5djq-tejuI"
      },
      "source": [
        "### 1.2 Implementation of Convolution Filter\n",
        "\n",
        "Process the obtained array from the image with convolution operation. **(20 Points)**\n",
        "\n",
        "**Tasks:**\n",
        "1. Prepare a 3X3 Laplacian kernel (aka Laplacial filter) with array as convolution filter.\n",
        "2. Conduct convolution on image with prepared kernel.\n",
        "3. **PRINT OUT** convolution result for first ten rows.\n",
        "4. **PRINT OUT** the shape of the convolution result.\n",
        "5. **DISPLAY** convolution result as image with matplotlib. (Don't worry about the value <0 or >255. Scaling process will be conducted in imshow function to make sure valid display.)\n",
        "\n",
        "\n",
        "**Hints:**\n",
        "1. Laplacian kernel is widely used for edge detection. Its form is shown below:\n",
        "\n",
        "\n",
        "![](https://drive.google.com/uc?export=view&id=15bP8KCwHLtglJ-WXV4wolm4m46mCp3HL)\n",
        "\n",
        "2. You may consider the following steps for this implementation.\\\n",
        "    2.1 Extract all centriods of processing region for each convolution operation.\\\n",
        "    2.2 According to each centroid, locate all indices of the elements within the local region for each convolution operation.\\\n",
        "    2.3 Given obtained indices, locate pixel values (i.e. our obtained array elements) and conduct element-wise product between pixel and kernel values.\\\n",
        "    2.4 Sum element-wise product results and assign the value to convolution result at corresponding location.\\\n",
        "    **Note: we did not conduct padding for processed array, and thus, convolution result will become smaller than original array. You may think about the reason.**\n",
        "3. Validation for first 5X5 array (from upper-left corner), i.e., filtered_results[0:5,0:5]. The example figure is below.\n",
        "\n",
        "[[ 134.   37.   98.  195.  173.]\\\n",
        " [ -75.  -80.   56.  -65.  182.]\\\n",
        " [  96.  -37. -163.   22.   68.]\\\n",
        " [-101.  121.   81.  148.  -71.]\\\n",
        " [   7.  127. -141.  159. -127.]]\n",
        "\n",
        "![](https://drive.google.com/uc?export=view&id=18Iis1mJsvEaojZ7O3f3soE152Szwy8_Z)\n",
        "\n",
        "\n"
      ]
    },
    {
      "cell_type": "code",
      "execution_count": null,
      "metadata": {
        "colab": {
          "base_uri": "https://localhost:8080/",
          "height": 823
        },
        "id": "cnc8BNW9ejuJ",
        "outputId": "fe4a6a17-a9a8-40be-e37b-c467aa1815ae"
      },
      "outputs": [
        {
          "name": "stdout",
          "output_type": "stream",
          "text": [
            "[[ 134   37   98  195  173 -221    5  137    3  -62  -87  -39  -92 -128\n",
            "  -175 -152  -77   -8  -50   13   25    1  -58  -22   -7   64  -12  -24]\n",
            " [ -75  -80   56  -65  182  -39   12  -96  -83  -99  -27  -24  -48  -70\n",
            "   -12  -45  -75  -88  -92  -29  -88   -2  -15   33  -25   18   14    2]\n",
            " [  96  -37 -163   22   68 -199  -10  -89   37   29   49  -25   18  -17\n",
            "    43   29  -30  -51  180  129   16  -26  -43   38   28   49   11  -19]\n",
            " [-101  121   81  148  -71  -30 -100   47   82  -13  -15  -44   21  -23\n",
            "    16   74    5 -154  130  -84   47  -76  -75  -52   77  114   -7  -49]\n",
            " [   7  127 -141  159 -127  -74  142  -61   -6  -63  -23    2  -32  -67\n",
            "    31  -23   57  -50  205 -110  264  -20 -135  -52  -32   -8   61   44]\n",
            " [  72  137  -99 -175  -89   29  -39  -17   22    5  -19   51  -65 -136\n",
            "  -126  -10  -31 -123   -1 -304  240   33   -7   22  -97 -126   76   98]\n",
            " [  -1  -86  -46  -72  109    4  -13  -27   11  -59 -195  110  159   52\n",
            "  -120  -19  -63  -17  143 -193  229  -60 -165   40    8  -84  -27   25]\n",
            " [ 263 -187  -48  124  435  -40  -64   -4  -45  -92  159  157  122  111\n",
            "   226  176   -2   72  -11 -190  210  -56   56   73  -44  -85    8  102]\n",
            " [ 106 -164   49  -69  241 -258  -26  -25  -33  -89   69  108   84   16\n",
            "    24  -37   13  127 -258  110   -3    1  125 -133   40   -9  -22  -50]\n",
            " [ 184 -272  155  -58 -196   19   38   -2   51  -22  -11 -116 -171 -158\n",
            "  -116  -58  124  -45 -154  162   67  -12   44  -55   77   -8   20 -107]]\n",
            "(28, 28)\n"
          ]
        },
        {
          "data": {
            "text/plain": [
              "<matplotlib.image.AxesImage at 0x7a20543760e0>"
            ]
          },
          "execution_count": 3,
          "metadata": {},
          "output_type": "execute_result"
        },
        {
          "data": {
            "image/png": "[encoded data removed]",
            "text/plain": [
              "<Figure size 640x480 with 1 Axes>"
            ]
          },
          "metadata": {},
          "output_type": "display_data"
        }
      ],
      "source": [
        "######## Convolution with Laplacian Filter ##################\n",
        "def kernel_multiplication(kernel, centroid):\n",
        "  sum = 0\n",
        "  for i in range(len(kernel)):\n",
        "    for j in range(len(kernel[0])):\n",
        "      sum += kernel[i][j] * centroid[i][j]\n",
        "\n",
        "  return sum\n",
        "\n",
        "\n",
        "def basic_convolution(filter, image_matrix):\n",
        "  kernel_size = len(filter)\n",
        "  img_size = len(image_matrix)\n",
        "  num_runs = (img_size - kernel_size) + 1\n",
        "\n",
        "  convo_array = []\n",
        "\n",
        "  for i in range(num_runs):\n",
        "    temp = []\n",
        "    for j in range(num_runs):\n",
        "      res = kernel_multiplication(filter,\n",
        "                            image_matrix[i:(i+kernel_size), j:(j+kernel_size)])\n",
        "      temp.append(res)\n",
        "    convo_array.append(temp)\n",
        "\n",
        "  convo_array = np.array(convo_array)\n",
        "  return convo_array\n",
        "\n",
        "filter = [[0,1,0],\n",
        "          [1,-4,1],\n",
        "          [0,1,0]]\n",
        "\n",
        "convolution_1 = basic_convolution(filter, img_matrix)\n",
        "print(convolution_1[0:10])\n",
        "print(convolution_1.shape)\n",
        "plt.imshow(convolution_1)\n"
      ]
    },
    {
      "cell_type": "markdown",
      "metadata": {
        "id": "DMN_XE1xejuJ"
      },
      "source": [
        "### 1.3 Modification on Convolution Scheme\n",
        "\n",
        "Conduct the convolution with the same filter as above, but change the stride to 2. **(5 Points)**\n",
        "\n",
        "**Tasks:**\n",
        "1. Modify the convolution process with stride=2\n",
        "2. **PRINT OUT** convolution result for first ten rows.\n",
        "3. **PRINT OUT** the shape of the convolution result.\n",
        "4. **DISPLAY** convolution result as image with matplotlib.(Don't worry about the value <0 or >255. Scaling process will be conducted in imshow function to make sure valid display.)\n",
        "\n",
        "**Hints:**\n",
        "1. You may just reduce the centroid pool according to stride=2, and then, follow the same convolution process above.\n",
        "    **Note: After increase of stride, the size of convolution result is further shrinked. You may think about the reason.**\n",
        "2. Validation for first 5X5 array (from upper-left corner), i.e., filtered_results[0:5,0:5]. The example figure is below.\n",
        "\n",
        "[[ 134.   98.  173.    5.    3.]\\\n",
        " [  96. -163.   68.  -10.   37.]\\\n",
        " [   7. -141. -127.  142.   -6.]\\\n",
        " [  -1.  -46.  109.  -13.   11.]\\\n",
        " [ 106.   49.  241.  -26.  -33.]]\n",
        "\n",
        "\n",
        "![](https://drive.google.com/uc?export=view&id=1UPdXt5cY1umImu2chaQLfWAnqDEpFOGV)\n"
      ]
    },
    {
      "cell_type": "code",
      "execution_count": null,
      "metadata": {
        "colab": {
          "base_uri": "https://localhost:8080/",
          "height": 644
        },
        "id": "pyFLwZxYejuJ",
        "outputId": "72dd47fb-f957-40aa-a844-fd53bdbabdcb"
      },
      "outputs": [
        {
          "name": "stdout",
          "output_type": "stream",
          "text": [
            "[[ 134   98  173    5    3  -87  -92 -175  -77  -50   25  -58   -7  -12]\n",
            " [  96 -163   68  -10   37   49   18   43  -30  180   16  -43   28   11]\n",
            " [   7 -141 -127  142   -6  -23  -32   31   57  205  264 -135  -32   61]\n",
            " [  -1  -46  109  -13   11 -195  159 -120  -63  143  229 -165    8  -27]\n",
            " [ 106   49  241  -26  -33   69   84   24   13 -258   -3  125   40  -22]\n",
            " [ -79   41  -89   18  -31   26  103  -10   81   77  106  -88   51  -19]\n",
            " [  76   24   15 -144  -18   -6   36 -164  -80 -120  -65   45  -33  -32]\n",
            " [ 196  -18   71  -43   20   50   42   50   59 -111  -45  -15   58 -169]\n",
            " [ -38  -43   48   -9   -5   26 -164   61  -16   -5  126   96   -8   71]\n",
            " [-234   26  110   29  -39  -31   86 -111  -10   60  -27   15    1   44]]\n",
            "(14, 14)\n"
          ]
        },
        {
          "data": {
            "text/plain": [
              "<matplotlib.image.AxesImage at 0x7a2054262380>"
            ]
          },
          "execution_count": 4,
          "metadata": {},
          "output_type": "execute_result"
        },
        {
          "data": {
            "image/png": "[encoded data removed]",
            "text/plain": [
              "<Figure size 640x480 with 1 Axes>"
            ]
          },
          "metadata": {},
          "output_type": "display_data"
        }
      ],
      "source": [
        "######## Convolution with Laplacian Filter and the setting of stride=2 ##################\n",
        "def convolution_with_stride_two(filter, image_matrix):\n",
        "  kernel_size = len(filter)\n",
        "  img_size = len(image_matrix)\n",
        "  size_diff = img_size - kernel_size\n",
        "\n",
        "  convo_array = []\n",
        "\n",
        "  for i in range(0, size_diff + 1, 2):\n",
        "    temp = []\n",
        "    for j in range(0, size_diff + 1, 2):\n",
        "      res = kernel_multiplication(filter,\n",
        "                            image_matrix[i:(i+kernel_size), j:(j+kernel_size)])\n",
        "      temp.append(res)\n",
        "    convo_array.append(temp)\n",
        "\n",
        "  convo_array = np.array(convo_array)\n",
        "  return convo_array\n",
        "\n",
        "\n",
        "reduced_image = img_matrix[0:29, 0:29]\n",
        "convolution_2 = convolution_with_stride_two(filter, reduced_image)\n",
        "print(convolution_2[0:10])\n",
        "print(convolution_2.shape)\n",
        "plt.imshow(convolution_2)\n"
      ]
    },
    {
      "cell_type": "markdown",
      "metadata": {
        "id": "l2PT6NpSejuL"
      },
      "source": [
        "### 1.4 Implementation of MaxPooling\n",
        "\n",
        "Process the obtained array from the image with MaxPooling operation. **(15 Points)**\n",
        "\n",
        "**Tasks:**\n",
        "1. Prepare a 2X2 pooling mask.\n",
        "2. Conduct max pooing on image with prepared mask.\n",
        "3. **PRINT OUT** convolution result for first ten rows.\n",
        "4. **PRINT OUT** the shape of the convolution result.\n",
        "5. **DISPLAY** convolution result as image with matplotlib.(Don't worry about the value <0 or >255. Scaling process will be conducted in imshow function to make sure valid display.)\n",
        "\n",
        "**Hints:**\n",
        "1. You may just modify the centroid pool to top-left corner pool, and then, follow the same strategy above.\\\n",
        "    **Note: After the pooling, the size of the array is shrinked. You may think about the reason.**\n",
        "2. Validation for first 5X5 array (from upper-left corner), i.e., pooled_results[0:5,0:5].The example figure is below.\n",
        "\n",
        "[[ 98. 112.  93. 195. 173.]\\\n",
        " [ 84. 127. 137. 253. 254.]\\\n",
        " [ 85. 145. 225. 255. 242.]\\\n",
        " [104. 178. 216. 230. 242.]\\\n",
        " [ 95. 186. 147. 248. 242.]]\n",
        "\n",
        "![](https://drive.google.com/uc?export=view&id=1a18IWjrN0xHcp7bSNuj8kUM4JFFj3ebd)\n",
        "\n"
      ]
    },
    {
      "cell_type": "code",
      "execution_count": null,
      "metadata": {
        "colab": {
          "base_uri": "https://localhost:8080/",
          "height": 555
        },
        "id": "JOV72Sp9ejuL",
        "outputId": "50e71ab7-2edf-4db4-88d3-71ac806f0a89"
      },
      "outputs": [
        {
          "name": "stdout",
          "output_type": "stream",
          "text": [
            "[[ 98 112  93 195 173]\n",
            " [ 84 127 137 253 254]\n",
            " [ 85 145 225 255 242]\n",
            " [104 178 216 230 242]\n",
            " [ 95 186 147 248 242]]\n",
            "(15, 15)\n"
          ]
        },
        {
          "data": {
            "text/plain": [
              "<matplotlib.image.AxesImage at 0x7a205410dbd0>"
            ]
          },
          "execution_count": 5,
          "metadata": {},
          "output_type": "execute_result"
        },
        {
          "data": {
            "image/png": "[encoded data removed]",
            "text/plain": [
              "<Figure size 640x480 with 1 Axes>"
            ]
          },
          "metadata": {},
          "output_type": "display_data"
        }
      ],
      "source": [
        "######## MaxPooling with the setting of 2X2 ##################\n",
        "def max_pooling(image_matrix, mask=2):\n",
        "  img_size = len(image_matrix)\n",
        "\n",
        "  convo_array = []\n",
        "  for i in range(0, img_size, mask):\n",
        "    temp = []\n",
        "    for j in range(0, img_size, mask):\n",
        "      res = np.max(image_matrix[i:(i+mask), j:(j+mask)])\n",
        "      temp.append(res)\n",
        "    convo_array.append(temp)\n",
        "\n",
        "  convo_array = np.array(convo_array)\n",
        "  return convo_array\n",
        "\n",
        "max_pool = max_pooling(img_matrix)\n",
        "print(max_pool[0:5, 0:5])\n",
        "print(max_pool.shape)\n",
        "plt.imshow(max_pool)"
      ]
    },
    {
      "cell_type": "markdown",
      "metadata": {
        "id": "tCxlJYlqejuM"
      },
      "source": [
        "## 2 - Convolution Neural Network ##\n",
        "\n",
        "In this section, we will use LeNet-5 (LeCun et al., 1998), one of representative deep nueral networks, to solve a  classification problem with Fashion MNIST benchmark.\n",
        "\n",
        "### 2.1 Library Preparation\n",
        "\n",
        "Import useful deep learning packages.\n",
        "\n",
        "**Tasks:**\n",
        "1. Import numpy and rename it to np.\n",
        "2. Import torch\n",
        "3. Import torch.nn.\n",
        "4. Import torch.nn.functional and rename it to F\n",
        "5. Import torchvision\n",
        "6. Import torchvision.tranaforms and rename it to transforms"
      ]
    },
    {
      "cell_type": "code",
      "execution_count": null,
      "metadata": {
        "id": "e5enuEKHejuM"
      },
      "outputs": [],
      "source": [
        "import numpy as np\n",
        "import torch\n",
        "import torch.nn as nn\n",
        "import torch.nn.functional as F\n",
        "import torchvision\n",
        "import torchvision.transforms as transforms\n",
        "import matplotlib.pyplot as plt\n"
      ]
    },
    {
      "cell_type": "markdown",
      "metadata": {
        "id": "BUs3cBXXejuN"
      },
      "source": [
        "### 2.2 Training Data Preparation\n",
        "\n",
        "Import useful packages and prepare Fashion MNIST data. **(20 Points)**\n",
        "\n",
        "**Tasks:**\n",
        "1. Download Fashion MNIST data and split it with torchvision.datasets and prepare training/test data sets.\n",
        "2. Preprocess training/test data with normalization, dimension extension, and zero padding (for LeNet-5 configuration).\n",
        "3. Preprocess label data to binary class matrices.\n",
        "4. **PRINT OUT** first image in training set and its correponding label index\n",
        "5. **PRINT OUT** the shape of total training data, the number of training samples, and the number of test samples.\n",
        "\n",
        "**Hints**\n",
        "1. You may consider load function from the reference link. https://pytorch.org/vision/main/datasets.html It provides dataloader function which can tackle downloading and data splitting automatically.\n",
        "2. For preprocessing transformation, you can check this link: https://nextjournal.com/gkoehler/pytorch-mnist\n",
        "2. For image display, consider showing the image and label **before dimension extension**.\n"
      ]
    },
    {
      "cell_type": "code",
      "execution_count": null,
      "metadata": {
        "colab": {
          "base_uri": "https://localhost:8080/",
          "height": 899
        },
        "id": "DjyfYiGrejuN",
        "outputId": "70e8065e-cbb8-4c52-a5bf-46ac48953520"
      },
      "outputs": [
        {
          "name": "stdout",
          "output_type": "stream",
          "text": [
            "Downloading http://fashion-mnist.s3-website.eu-central-1.amazonaws.com/train-images-idx3-ubyte.gz\n",
            "Downloading http://fashion-mnist.s3-website.eu-central-1.amazonaws.com/train-images-idx3-ubyte.gz to ./FashionMNIST/raw/train-images-idx3-ubyte.gz\n"
          ]
        },
        {
          "name": "stderr",
          "output_type": "stream",
          "text": [
            "100%|██████████| 26421880/26421880 [00:02<00:00, 12776665.39it/s]\n"
          ]
        },
        {
          "name": "stdout",
          "output_type": "stream",
          "text": [
            "Extracting ./FashionMNIST/raw/train-images-idx3-ubyte.gz to ./FashionMNIST/raw\n",
            "\n",
            "Downloading http://fashion-mnist.s3-website.eu-central-1.amazonaws.com/train-labels-idx1-ubyte.gz\n",
            "Downloading http://fashion-mnist.s3-website.eu-central-1.amazonaws.com/train-labels-idx1-ubyte.gz to ./FashionMNIST/raw/train-labels-idx1-ubyte.gz\n"
          ]
        },
        {
          "name": "stderr",
          "output_type": "stream",
          "text": [
            "100%|██████████| 29515/29515 [00:00<00:00, 203093.92it/s]\n"
          ]
        },
        {
          "name": "stdout",
          "output_type": "stream",
          "text": [
            "Extracting ./FashionMNIST/raw/train-labels-idx1-ubyte.gz to ./FashionMNIST/raw\n",
            "\n",
            "Downloading http://fashion-mnist.s3-website.eu-central-1.amazonaws.com/t10k-images-idx3-ubyte.gz\n",
            "Downloading http://fashion-mnist.s3-website.eu-central-1.amazonaws.com/t10k-images-idx3-ubyte.gz to ./FashionMNIST/raw/t10k-images-idx3-ubyte.gz\n"
          ]
        },
        {
          "name": "stderr",
          "output_type": "stream",
          "text": [
            "100%|██████████| 4422102/4422102 [00:01<00:00, 3737812.80it/s]\n"
          ]
        },
        {
          "name": "stdout",
          "output_type": "stream",
          "text": [
            "Extracting ./FashionMNIST/raw/t10k-images-idx3-ubyte.gz to ./FashionMNIST/raw\n",
            "\n",
            "Downloading http://fashion-mnist.s3-website.eu-central-1.amazonaws.com/t10k-labels-idx1-ubyte.gz\n",
            "Downloading http://fashion-mnist.s3-website.eu-central-1.amazonaws.com/t10k-labels-idx1-ubyte.gz to ./FashionMNIST/raw/t10k-labels-idx1-ubyte.gz\n"
          ]
        },
        {
          "name": "stderr",
          "output_type": "stream",
          "text": [
            "100%|██████████| 5148/5148 [00:00<00:00, 6689057.31it/s]\n"
          ]
        },
        {
          "name": "stdout",
          "output_type": "stream",
          "text": [
            "Extracting ./FashionMNIST/raw/t10k-labels-idx1-ubyte.gz to ./FashionMNIST/raw\n",
            "\n",
            "Figure(640x480)\n",
            "batch_idx=0\n",
            "torch.Size([64, 1, 28, 28])\n",
            "len(train_data)=60000\n",
            "len(test_data)=10000\n"
          ]
        },
        {
          "data": {
            "image/png": "[encoded data removed]",
            "text/plain": [
              "<Figure size 640x480 with 1 Axes>"
            ]
          },
          "metadata": {},
          "output_type": "display_data"
        }
      ],
      "source": [
        "# Define transformation for training and testing data.\n",
        "# For training, use RandomCrop, RandomRotation and Normalization with mean 0.1307 variance0.3081\n",
        "# For testing, just use Normalization.\n",
        "\n",
        "\n",
        "# Load the training and testing datasets from Pytorch\n",
        "\n",
        "batch_size = 64\n",
        "\n",
        "train_data = torchvision.datasets.FashionMNIST(\"./\",\n",
        "                                                 train=True, download=True,\n",
        "                                                 transform=torchvision.transforms.Compose([\n",
        "                                                    transforms.ToTensor(),\n",
        "                                                    transforms.RandomCrop(28),\n",
        "                                                    transforms.RandomRotation(45),\n",
        "                                                    transforms.Normalize(\n",
        "                                                        (0.1307,), (0.3081,))\n",
        "                                                  ]))\n",
        "test_data = torchvision.datasets.FashionMNIST(\"./\",\n",
        "                                                 train=False, download=True,\n",
        "                                                 transform=torchvision.transforms.Compose([\n",
        "                                                    transforms.ToTensor(),\n",
        "                                                    transforms.Normalize(\n",
        "                                                        (0.1307,), (0.3081,))\n",
        "                                                  ]))\n",
        "\n",
        "train_loader = torch.utils.data.DataLoader(train_data,\n",
        "                                           batch_size=batch_size,\n",
        "                                          shuffle=True)\n",
        "\n",
        "test_loader = torch.utils.data.DataLoader(test_data,\n",
        "                                          batch_size=batch_size,\n",
        "                                          shuffle=True)\n",
        "\n",
        "examples = enumerate(train_loader)\n",
        "batch_idx, (example_data, example_target) = next(examples)\n",
        "\n",
        "\n",
        "# Print out first image and its correponding label index using matplotlib.\n",
        "fig = plt.figure()\n",
        "plt.imshow(example_data[0][0], cmap=\"gray\", interpolation=\"none\")\n",
        "plt.title(f'Data Target: {example_target[0]}')\n",
        "\n",
        "print(fig)\n",
        "print(f'{batch_idx=}')\n",
        "print(example_data.shape)\n",
        "print(f'{len(train_data)=}')\n",
        "print(f'{len(test_data)=}')"
      ]
    },
    {
      "cell_type": "markdown",
      "metadata": {
        "id": "sw4GqzZmejuN"
      },
      "source": [
        "### 2.3 LeNet-5\n",
        "\n",
        "Construct LeNet-5 as learning model for Fashion MNIST classification task. **(15 Points)**\n",
        "\n",
        "**Tasks:**\n",
        "1. Build up LeNet-5 by creating a new Net that inherit nn.Module. The class needs to have __init__ and forward functions.\n",
        "\n",
        "2. **PRINT OUT** the model summary using torchsummary library (import torchsummary).\n",
        "\n",
        "**Hints:**\n",
        "1. You may consider the convolution neural network shown in class as an example.\n",
        "2. The structure of LeNet-5 is listed below. Try to map each step to related processing operation. You can also search some materials to faciliate implementation.\n",
        "3. Some architecture settings are listed below.\n",
        "    - To have 32 X 32 input, you need padding=2 for the first 2D convolution filter (original image is 28 X 28)\n",
        "    - The kernel size for 2D convolution filter is **5 X 5**. You may think about the reason by calculation.\n",
        "    - We change tanh activation to **\"relu\"** activation here.\n",
        "    - We use MaxPooling instead of original AveragePooling. Please use size 2 X 2 for implementation.\n",
        "    - Please use **Flatten** to onvert 2D convolution layer to 1D fully connected layer.\n",
        "    - Gaussian connections are replaced with Softmax, and thus, the outputs are activated by Softmax function based on the number of classes.\n",
        "\n",
        "4. Validation result:\n",
        "    - Total params: 61,706\n",
        "    - Trainable params: 61,706\n",
        "    - Non-trainable params: 0\n",
        "\n",
        "![image.png](data:image/png;base64,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)\n",
        "\n",
        "**References:**\n",
        "- http://yann.lecun.com/exdb/lenet/\n"
      ]
    },
    {
      "cell_type": "code",
      "execution_count": null,
      "metadata": {
        "colab": {
          "base_uri": "https://localhost:8080/"
        },
        "id": "c97heiiSejuN",
        "outputId": "28944d2b-cf6b-4485-d803-dd483248f91f"
      },
      "outputs": [
        {
          "name": "stdout",
          "output_type": "stream",
          "text": [
            "----------------------------------------------------------------\n",
            "        Layer (type)               Output Shape         Param #\n",
            "================================================================\n",
            "            Conv2d-1            [-1, 6, 28, 28]             156\n",
            "            Conv2d-2           [-1, 16, 10, 10]           2,416\n",
            "            Linear-3                  [-1, 120]          48,120\n",
            "            Linear-4                   [-1, 84]          10,164\n",
            "            Linear-5                   [-1, 10]             850\n",
            "================================================================\n",
            "Total params: 61,706\n",
            "Trainable params: 61,706\n",
            "Non-trainable params: 0\n",
            "----------------------------------------------------------------\n",
            "Input size (MB): 0.00\n",
            "Forward/backward pass size (MB): 0.05\n",
            "Params size (MB): 0.24\n",
            "Estimated Total Size (MB): 0.29\n",
            "----------------------------------------------------------------\n"
          ]
        }
      ],
      "source": [
        "from torchsummary import summary\n",
        "\n",
        "class Net(nn.Module):\n",
        "    def __init__(self):\n",
        "        super(Net, self).__init__()\n",
        "        self.conv1 = nn.Conv2d(1, 6, 5, 1, padding=2)\n",
        "        self.conv2 = nn.Conv2d(6, 16, 5, 1, padding=0)\n",
        "        self.fc1 = nn.Linear(16*5*5, 120)\n",
        "        self.fc2 = nn.Linear(120, 84)\n",
        "        self.fc3 = nn.Linear(84, 10)\n",
        "\n",
        "    def forward(self, x):\n",
        "        x = self.conv1(x)\n",
        "        x = F.relu(x)\n",
        "        x = F.max_pool2d(x, 2)\n",
        "        x = self.conv2(x)\n",
        "        x = F.relu(x)\n",
        "        x = F.max_pool2d(x, 2)\n",
        "        x = x.view(x.size(0), -1)\n",
        "        x = self.fc1(x)\n",
        "        x = F.relu(x)\n",
        "        x = self.fc2(x)\n",
        "        x = F.relu(x)\n",
        "        output = self.fc3(x)\n",
        "        return output\n",
        "\n",
        "# Decide whether you want to run your model on cpu or gpu.\n",
        "device = 'cuda' if torch.cuda.is_available() else 'cpu'\n",
        "net = Net().to(device)\n",
        "summary(net, (1, 28, 28))"
      ]
    },
    {
      "cell_type": "markdown",
      "metadata": {
        "id": "VmVzUU9oejuO"
      },
      "source": [
        "### 2.4 LeNet-5 Model Training\n",
        "\n",
        "Train LeNet-5 model with specific training strategy. **(20 Points)**\n",
        "\n",
        "**Tasks:**\n",
        "1. Set batch size to **64** for training.\n",
        "2. Pick **SGD optimizer** with learning rate of **0.1**, momentum of **0.9**, and **nesterov=True**, for model training.\n",
        "3. Pick **cross-entropy** loss function for optimization and evaluation metrics is set to **accuracy**.\n",
        "4. Train the model with **10 epochs** and **PRINT OUT** : **train loss** and **train accuracy** after each epoch.\n",
        "5. Evaluate model with test data set and **PRINT OUT** : **test loss** and **test accuracy**.\n",
        "\n",
        "**Hints:**\n",
        "1. You may consider the examples from Keras to specify optimizer parameters. https://pytorch.org/docs/stable/optim.html\n",
        "2. You may use the example shown in class to faciliate this implementation.\n",
        "3. You may see slightly different results every time you run the training. It is normal since there is randomness for training."
      ]
    },
    {
      "cell_type": "code",
      "execution_count": null,
      "metadata": {
        "colab": {
          "base_uri": "https://localhost:8080/"
        },
        "id": "Mz-Cvsu8ejuO",
        "outputId": "3fc7a2a9-8082-4998-cc96-0c6a8922729a"
      },
      "outputs": [
        {
          "name": "stdout",
          "output_type": "stream",
          "text": [
            "Epoch 1/10: Train Loss = 0.78533661, Train Accuracy = 70.66%\n",
            "Epoch 2/10: Train Loss = 0.60592417, Train Accuracy = 77.95%\n",
            "Epoch 3/10: Train Loss = 0.58352362, Train Accuracy = 78.87%\n",
            "Epoch 4/10: Train Loss = 0.58136704, Train Accuracy = 79.17%\n",
            "Epoch 5/10: Train Loss = 0.57651793, Train Accuracy = 79.37%\n",
            "Epoch 6/10: Train Loss = 0.57727404, Train Accuracy = 79.12%\n",
            "Epoch 7/10: Train Loss = 0.57488001, Train Accuracy = 79.57%\n",
            "Epoch 8/10: Train Loss = 0.56869995, Train Accuracy = 79.73%\n",
            "Epoch 9/10: Train Loss = 0.56797426, Train Accuracy = 79.61%\n",
            "Epoch 10/10: Train Loss = 0.56917059, Train Accuracy = 79.61%\n",
            "Test Loss = 0.56231334, Test Accuracy = 81.19%\n"
          ]
        }
      ],
      "source": [
        "### Train with SGD optimizer with learning rate =0.1, regularizer=4e-5, momentum=0.9\n",
        "\n",
        "epochs = 10\n",
        "regularizer=4e-5\n",
        "learning_rate = 0.1\n",
        "momentum = 0.9\n",
        "\n",
        "optimizer = torch.optim.SGD(net.parameters(), lr=learning_rate, momentum=momentum, nesterov=True)\n",
        "loss_func = nn.CrossEntropyLoss()\n",
        "\n",
        "for i in range(epochs):\n",
        "  net.train()\n",
        "  train_loss = 0.0\n",
        "  correct = 0\n",
        "  total = 0\n",
        "\n",
        "  for batch_idx, (inputs, labels) in enumerate(train_loader):\n",
        "    inputs, labels = inputs.to(device), labels.to(device)\n",
        "    optimizer.zero_grad()\n",
        "    outputs = net(inputs)\n",
        "    loss = loss_func(outputs, labels)\n",
        "    loss.backward()\n",
        "    optimizer.step()\n",
        "\n",
        "    train_loss += loss.item()\n",
        "    _, predicted = outputs.max(1)\n",
        "    total += labels.size(0)\n",
        "    correct += (predicted == labels).sum().item()\n",
        "\n",
        "  train_accuracy = 100 * correct / total\n",
        "  train_loss = train_loss/len(train_loader)\n",
        "  print(f\"Epoch {i+1}/{epochs}: Train Loss = {train_loss:.8f}, Train Accuracy = {train_accuracy:.2f}%\")\n",
        "\n",
        "net.eval()\n",
        "test_loss = 0.0\n",
        "correct = 0\n",
        "total = 0\n",
        "\n",
        "with torch.no_grad():\n",
        "  for batch_idx, (inputs, labels) in enumerate(test_loader):\n",
        "    inputs, labels = inputs.to(device), labels.to(device)\n",
        "    outputs = net(inputs)\n",
        "    loss = loss_func(outputs, labels)\n",
        "    test_loss += loss.item()\n",
        "    _, predicted = torch.max(outputs.data, 1)\n",
        "    total += labels.size(0)\n",
        "    correct += (predicted == labels).sum().item()\n",
        "\n",
        "test_accuracy = 100 * correct / total\n",
        "test_loss = test_loss/len(test_loader)\n",
        "print(f\"Test Loss = {test_loss:.8f}, Test Accuracy = {test_accuracy:.2f}%\")"
      ]
    }
  ],
  "metadata": {
    "accelerator": "GPU",
    "colab": {
      "provenance": []
    },
    "coursera": {
      "course_slug": "neural-networks-deep-learning",
      "graded_item_id": "XaIWT",
      "launcher_item_id": "zAgPl"
    },
    "kernelspec": {
      "display_name": "Python 3",
      "language": "python",
      "name": "python3"
    },
    "language_info": {
      "codemirror_mode": {
        "name": "ipython",
        "version": 3
      },
      "file_extension": ".py",
      "mimetype": "text/x-python",
      "name": "python",
      "nbconvert_exporter": "python",
      "pygments_lexer": "ipython3",
      "version": "3.8.5"
    }
  },
  "nbformat": 4,
  "nbformat_minor": 0
}
