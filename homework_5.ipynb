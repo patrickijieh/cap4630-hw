{
  "cells": [
    {
      "cell_type": "code",
      "execution_count": 1,
      "metadata": {
        "id": "Zt-c88Oil6hR"
      },
      "outputs": [],
      "source": [
        "# Name: Patrick Ijieh"
      ]
    },
    {
      "cell_type": "markdown",
      "metadata": {
        "id": "19ldCWlJ7REW"
      },
      "source": [
        "# Reinforcement Learning\n",
        "\n",
        "This is the 5th assignment for CAP 4630 and we will train an AI-based explorer to play a game by reinforcement learing. As domestrated below, in this game, the treasure (denoted by T) is on the right-most and the explorer (denoted by o) will learn to get the treasure by moving left and right. The explorer will be rewarded when it gets the treasure.  After serveral epoches, the explorer will learn how to get the treasure faster and finally it will go to the treasure by moving to right directly. \\\n",
        "\n",
        "Episode 1, Step1: o----T   \\\n",
        "... \\\n",
        "Episode 1, Step6: ---o-T   \\\n",
        "... \\\n",
        "Episode 1, Step10: -o---T \\\n",
        "... \\\n",
        "Episode 1, Step15: ----oT (finished) \\\n",
        "\n",
        "You will use **\"Tasks\"** and **\"Hints\"** to finish the work. **(Total 100 Points)** \\\n",
        "\n",
        "**Task Overview:**\n",
        "- Train the explorer getting the treasure quickly through Q-learning method"
      ]
    },
    {
      "cell_type": "markdown",
      "metadata": {
        "id": "p0Cmvbnj7REa"
      },
      "source": [
        "## 1 Achieve Q-learning method ##\n",
        "### 1.1 Model Preparation**(5 Points)**\n",
        "\n",
        "Import useful packages and prepare hyperpaprameters for Q-learning methods.\n",
        "\n",
        "**Tasks:**\n",
        "1. Import numpy and rename it to np.\n",
        "2. Import pandas and rename it to pd.\n",
        "3. Import the library \"time\"\n",
        "4. Set the parameter as suggested\n",
        "\n",
        "**Hints:**\n",
        "1. For your first trial, you may set as it is\n",
        "2. You may explore other possibilities here when you complete the whole homework"
      ]
    },
    {
      "cell_type": "code",
      "execution_count": 2,
      "metadata": {
        "id": "j4i1-N7o7REb"
      },
      "outputs": [],
      "source": [
        "#import packages here\n",
        "import numpy as np\n",
        "import pandas as pd\n",
        "import time\n",
        "import random\n",
        "\n",
        "NUM_STATES = 6                # the width of 1-dim world\n",
        "ACTIONS = ['left', 'right']   # the available actions to use\n",
        "EPSILON = 0.9                 # the degree of greedy (0＜ε＜1)\n",
        "ALPHA = 0.1                   # learning rate (0＜α≤1)\n",
        "GAMMA = 0.9                   # discount factor (0＜γ＜1)\n",
        "MAX_EPOCHS = 13               # the max epoches\n",
        "FRESH_TIME = 0.3              # the interval time"
      ]
    },
    {
      "cell_type": "markdown",
      "metadata": {
        "id": "Y6x0keZ07REc"
      },
      "source": [
        "### 1.2 Q table**(10 Points)**\n",
        "\n",
        "Q table is a [states * actions] matrix, which stores Q-value of taking one action in that specific state. For example, the following Q table means in state s3, it is more likely to choose a1 because it's Q-value is 5.31 which is higher than Q-value 2.33 for a0 in s3(refer to Lecture slides 16, page 35).\n",
        "![](https://drive.google.com/uc?export=view&id=1WGh7NYyYw6ccrxbDVdfbJmb_IhBfUyFf)\n",
        "\n",
        "**Tasks:**\n",
        "1. define the build_q_table function\n",
        "2. **Print Out** defined Q-table\n",
        "\n",
        "**Hints:**\n",
        "1. Using pd.DataFrame to define the Q-table.(https://pandas.pydata.org/docs/reference/api/pandas.DataFrame.html)\n",
        "2. Initialize the Q-table with all zeros."
      ]
    },
    {
      "cell_type": "code",
      "execution_count": 3,
      "metadata": {
        "colab": {
          "base_uri": "https://localhost:8080/"
        },
        "id": "f3VlakdE7REc",
        "outputId": "daa20c0d-a464-4c21-b317-965c4b38b915"
      },
      "outputs": [
        {
          "name": "stdout",
          "output_type": "stream",
          "text": [
            "   left  right\n",
            "0   0.0    0.0\n",
            "1   0.0    0.0\n",
            "2   0.0    0.0\n",
            "3   0.0    0.0\n",
            "4   0.0    0.0\n",
            "5   0.0    0.0\n"
          ]
        }
      ],
      "source": [
        "# define the function here\n",
        "# def build_q_table(n_states, actions): #add your code here\n",
        "\n",
        "def build_q_table(n_states: int, actions: list[str]) -> pd.DataFrame:\n",
        "  arr = []\n",
        "  for i in range(n_states):\n",
        "    temp = []\n",
        "    for j in actions:\n",
        "      temp.append(0.0)\n",
        "    arr.append(temp)\n",
        "\n",
        "\n",
        "  qt = pd.DataFrame(arr, columns=actions, dtype=np.float32)\n",
        "  return qt\n",
        "\n",
        "q_table = build_q_table(NUM_STATES, ACTIONS)\n",
        "print(q_table)"
      ]
    },
    {
      "cell_type": "markdown",
      "metadata": {
        "id": "SvGAtNQm7REe"
      },
      "source": [
        "### 1.3 Define action**(15 Points)**\n",
        "\n",
        "In this section, we are going to define how an actor picks the actions. We introduce ε-greedy (In lecture slide 16, page 35). In the initial exploring stage, the explorer knows little about the environment. Therefore, it is better to explore randomly instead of greedy. ε-greedy is the value to control the degree of greedy. It can be changed with time lapsing. In this homework, we set it as fixed value EPSILON = 0.9. You can change it to explore the final effect.\n",
        "\n",
        "**Tasks:**\n",
        "1. define the choose_action function\n",
        "2. **Print Out** sample action.\n",
        "\n",
        "**Hints:**\n",
        "1. You need to define two patterns: 1) non-greedy (i.e., random); 2) greedy.\n",
        "2. Non-greedy should occupy (1-ε) senario while greedy should occupy ε senario. In this case, it means Non-greedy occupys 10% senario while greedy occupys 90% senario. (you could implement it by comparing a random number ranging from 0 to 1 with ε)\n",
        "3. In the non-greedy pattern, the actor should choose the actions randomly.\n",
        "4. In the greedy pattern, the actor should choose the higher Q-value action.\n",
        "5. Don't forget the initial state which means all Q-value are zero and actor cannot choose greedily. You can treat it as non-greedy pattern."
      ]
    },
    {
      "cell_type": "code",
      "execution_count": 4,
      "metadata": {
        "colab": {
          "base_uri": "https://localhost:8080/"
        },
        "id": "Qps8xVq87REe",
        "outputId": "06b06200-12e5-44f8-92fe-fe16d301b0e2"
      },
      "outputs": [
        {
          "name": "stdout",
          "output_type": "stream",
          "text": [
            "left\n"
          ]
        }
      ],
      "source": [
        "# define the function here\n",
        "\n",
        "# def choose_action(state, q_table):\n",
        "#       # pick all actions from this state\n",
        "#     if ... or ...:  # non-greedy or non-explored\n",
        "#         ...\n",
        "#     else:\n",
        "#         ...    # greedy\n",
        "#     return action_name\n",
        "\n",
        "def state_is_zeroes(state: int, q_table: pd.DataFrame) -> bool:\n",
        "  for action in ACTIONS:\n",
        "    if q_table.loc[state, action] != 0:\n",
        "      return False\n",
        "\n",
        "  return True\n",
        "\n",
        "# Given state and Q-table, choose action\n",
        "def choose_action(state: int, q_table: pd.DataFrame) -> str:\n",
        "  p = random.random()\n",
        "  if p <= (1 - EPSILON) or state_is_zeroes(state, q_table):\n",
        "    idx = random.randint(0, len(ACTIONS)-1)\n",
        "    return ACTIONS[idx]\n",
        "\n",
        "  else:\n",
        "    max = -1\n",
        "    action = \"\"\n",
        "    for current_action in ACTIONS:\n",
        "      if q_table.loc[state, current_action] > max:\n",
        "        max = q_table.loc[state, current_action]\n",
        "        action = current_action\n",
        "    return action\n",
        "\n",
        "\n",
        "sample_action = choose_action(0, q_table)\n",
        "print(sample_action)"
      ]
    },
    {
      "cell_type": "markdown",
      "metadata": {
        "id": "1y0sb9Wr84rV"
      },
      "source": [
        "### 1.4 Interact with the environment**(30 Points)**\n",
        "\n",
        "In this section, we need to give a feedback for our previous action, which means getting reward (R) for next state (S_next) based on current state (S_current) and action (A). In this problem, we get reward R=1 if we move to the treasure T spot, otherwise, we get R=0.\n",
        "\n",
        "**Tasks:**\n",
        "1. define get_env_feedback function\n",
        "**Hints:**\n",
        "1. This function contains two parameters S_current and A(ction), and return S_next and R(eward).\n",
        "2. You need to consider two different senarios: 1) A = right; 2) A = left.\n",
        "3. In the above two senarios, you need to consider the boundary, next state and rewards.\n",
        "4. The update_env function is given to show changes for different steps in different episodes.\n",
        "5. The validation for S_current and Action is shown below.\n",
        "\n",
        "- S_current=0, sample_action = 'right', sample_feedback=(1,0)\n",
        "- S_current=3, sample_action = 'right', sample_feedback=(4,0)\n",
        "- S_current=4, sample_action = 'right', sample_feedback=('terminal', 1)\n",
        "- S_current=0, sample_action = 'left', sample_feedback=(0,0)\n",
        "- S_current=3, sample_action = 'left', sample_feedback=(2,0)\n",
        "- S_current=4, sample_action = 'left', sample_feedback=(3, 0)"
      ]
    },
    {
      "cell_type": "code",
      "execution_count": 5,
      "metadata": {
        "colab": {
          "base_uri": "https://localhost:8080/"
        },
        "id": "3Xb5Xi8U7REf",
        "outputId": "10a1f4a3-7baf-439e-aee8-c5acf6cf75c1"
      },
      "outputs": [
        {
          "name": "stdout",
          "output_type": "stream",
          "text": [
            "('terminal', 1)\n"
          ]
        }
      ],
      "source": [
        "# define the function here\n",
        "# def get_env_feedback(S_current, A):\n",
        "#     # This is how agent will interact with the environment\n",
        "#     if A == 'right':    # move right\n",
        "#         ...\n",
        "#     else:   # move left\n",
        "#         ...\n",
        "#     return S_next, R\n",
        "\n",
        "def get_env_feedback(s_current: int, A: str) -> tuple[int | str, int]:\n",
        "  R = 0\n",
        "  s_next = -1\n",
        "\n",
        "  if A == 'right':\n",
        "    s_next = s_current + 1\n",
        "    if s_next == NUM_STATES - 1:\n",
        "      s_next = 'terminal'\n",
        "      R = 1\n",
        "\n",
        "  else:\n",
        "    s_next = s_current - 1\n",
        "    if s_next < 0:\n",
        "      s_next = 0\n",
        "\n",
        "  return s_next, R\n",
        "\n",
        "\n",
        "S_current = 4\n",
        "sample_action = 'right'\n",
        "sample_feedback = get_env_feedback(S_current, sample_action)\n",
        "print(sample_feedback)"
      ]
    },
    {
      "cell_type": "code",
      "execution_count": 6,
      "metadata": {
        "id": "R5X__swLIJd3"
      },
      "outputs": [],
      "source": [
        "def update_env(S: int, episode: int, step_counter: int) -> None:\n",
        "    # This is how environment be updated\n",
        "    env_list = ['-']*(NUM_STATES-1) + ['T']   # '---------T' our environment\n",
        "    if S == 'terminal':\n",
        "        interaction = '  Episode %s: total_steps = %s' % (episode+1, step_counter)\n",
        "        print('{}\\n'.format(interaction), end='')\n",
        "        time.sleep(2)\n",
        "    else:\n",
        "        env_list[S] = 'o'\n",
        "        interaction = ''.join(env_list)\n",
        "        print('\\r{}'.format(interaction), end='')\n",
        "        time.sleep(FRESH_TIME)"
      ]
    },
    {
      "cell_type": "markdown",
      "metadata": {
        "id": "sSESWvv5ANHl"
      },
      "source": [
        "### 1.5 Start Q-learning with defined functions**(40 Points)**\n",
        "\n",
        "In this section, we are going to utilize all the functions defined above to do q-learning based on the optimal policy.\n",
        "![](https://drive.google.com/uc?export=view&id=10ra6mLlBHlhGNTYWwdGANoa6lC1K_7at)\n",
        "\n",
        "**Tasks**:\n",
        "1. define reinforce_learning function\n",
        "\n",
        "**Hints**:\n",
        "1. You should write this function with loops to keep updating q-table until you get to the reward spot.\n",
        "2. We have two loops, one is for different episodes and another one is for steps\n",
        "3. Whenever we take a step to the reward spot, we should end the loop and start another episode.\n",
        "4. Here is one possible example.\n",
        "\n",
        "![](https://drive.google.com/uc?export=view&id=1oo-gk710XVXbbeI7AI0uZInrnKtqGqn7)"
      ]
    },
    {
      "cell_type": "code",
      "execution_count": 9,
      "metadata": {
        "id": "4t3feBszAZUx"
      },
      "outputs": [],
      "source": [
        "# define the function here\n",
        "# def reinforce_learning():\n",
        "#     # main part of RL loop\n",
        "#     # build Q-table here\n",
        "#     ...\n",
        "#     #start training loop\n",
        "#     for episode in range(MAX_EPOCHES):\n",
        "#         step_counter = 0  #counter for counting steps to reach the treasure\n",
        "#         S_current = ...     #start from S_current\n",
        "#         is_terminated = ...   #flag to conrinue or stop the loop\n",
        "#         update_env(S_current, episode, step_counter)   #update environment\n",
        "#         while not is_terminated:\n",
        "#             ...#choose one action\n",
        "#             ...# take action & get next state and reward\n",
        "#             ...#update Q-table\n",
        "#             if S_next != 'terminal':                   #if the explorer doesn't get to the treasure\n",
        "#                 q_target = ...   # next state is not terminal\n",
        "#             else:\n",
        "#                 q_target = ...     # next state is terminal\n",
        "#                 is_terminated = ...    # terminate this episode\n",
        "\n",
        "#             q_table.loc[S_current, A] = ...  # update Q-table\n",
        "#             ...  # move to next state\n",
        "\n",
        "#             update_env(S_current, episode, step_counter+1)\n",
        "#             step_counter += 1\n",
        "#     return q_table\n",
        "\n",
        "def reinforce_learning() -> pd.DataFrame:\n",
        "  q_t = build_q_table(NUM_STATES, ACTIONS)\n",
        "  for episode in range(MAX_EPOCHS):\n",
        "    step_counter = 0\n",
        "    s_current = 0\n",
        "    is_terminated = False\n",
        "    update_env(s_current, episode, step_counter)\n",
        "    while not is_terminated:\n",
        "      q_target = 0.0\n",
        "      A = choose_action(s_current, q_t)\n",
        "      s_next, R = get_env_feedback(s_current, A)\n",
        "\n",
        "      if s_next != 'terminal':\n",
        "        q_target = ALPHA * (R + GAMMA * max_q_val(s_next, q_t) - q_t.loc[s_current, A])\n",
        "      else:\n",
        "        q_target = ALPHA * (R + GAMMA * 1 - q_t.loc[s_current, A])\n",
        "        is_terminated = True\n",
        "\n",
        "      q_t.loc[s_current, A] = q_t.loc[s_current, A] + q_target\n",
        "      s_current = s_next\n",
        "      step_counter += 1\n",
        "      update_env(s_current, episode, step_counter)\n",
        "\n",
        "  return q_t\n",
        "\n",
        "\n",
        "def max_q_val(state: int, q_t: pd.DataFrame) -> int:\n",
        "  rewards = []\n",
        "  for action in ACTIONS:\n",
        "    temp_reward = q_t.loc[state, action]\n",
        "    rewards.append(temp_reward)\n",
        "  return max(rewards)"
      ]
    },
    {
      "cell_type": "code",
      "execution_count": 8,
      "metadata": {
        "colab": {
          "base_uri": "https://localhost:8080/"
        },
        "id": "oSRgnyFdAdfx",
        "outputId": "98c380ca-20d4-48b0-a971-44f90b4da6bb"
      },
      "outputs": [
        {
          "name": "stdout",
          "output_type": "stream",
          "text": [
            "----oT  Episode 1: total_steps = 9\n",
            "----oT  Episode 2: total_steps = 38\n",
            "----oT  Episode 3: total_steps = 48\n",
            "----oT  Episode 4: total_steps = 10\n",
            "----oT  Episode 5: total_steps = 5\n",
            "----oT  Episode 6: total_steps = 5\n",
            "----oT  Episode 7: total_steps = 9\n",
            "----oT  Episode 8: total_steps = 7\n",
            "----oT  Episode 9: total_steps = 7\n",
            "----oT  Episode 10: total_steps = 7\n",
            "----oT  Episode 11: total_steps = 5\n",
            "----oT  Episode 12: total_steps = 5\n",
            "----oT  Episode 13: total_steps = 5\n",
            "\n",
            "Q-table:\n",
            "\n",
            "       left     right\n",
            "0  0.000000  0.011910\n",
            "1  0.000119  0.064497\n",
            "2  0.000000  0.243709\n",
            "3  0.025610  0.647500\n",
            "4  0.000000  1.417045\n",
            "5  0.000000  0.000000\n"
          ]
        }
      ],
      "source": [
        "# main function to run\n",
        "if __name__ == \"__main__\":\n",
        "    q_table = reinforce_learning()\n",
        "    print('\\r\\nQ-table:\\n')\n",
        "    print(q_table)"
      ]
    }
  ],
  "metadata": {
    "colab": {
      "provenance": []
    },
    "kernelspec": {
      "display_name": "Python 3",
      "language": "python",
      "name": "python3"
    },
    "language_info": {
      "codemirror_mode": {
        "name": "ipython",
        "version": 3
      },
      "file_extension": ".py",
      "mimetype": "text/x-python",
      "name": "python",
      "nbconvert_exporter": "python",
      "pygments_lexer": "ipython3",
      "version": "3.8.5"
    }
  },
  "nbformat": 4,
  "nbformat_minor": 0
}
